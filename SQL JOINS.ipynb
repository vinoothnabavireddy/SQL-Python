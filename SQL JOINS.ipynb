{
 "cells": [
  {
   "cell_type": "markdown",
   "metadata": {},
   "source": [
    "Connecting to a SQL connection and executing queries in python and converting the result into a dataframe using pandas."
   ]
  },
  {
   "cell_type": "code",
   "execution_count": 18,
   "metadata": {},
   "outputs": [
    {
     "name": "stdout",
     "output_type": "stream",
     "text": [
      "<mysql.connector.connection_cext.CMySQLConnection object at 0x000001CDE05F58E0>\n"
     ]
    }
   ],
   "source": [
    "import mysql.connector\n",
    "import pandas as pd\n",
    "\n",
    "\n",
    "mydb = mysql.connector.connect(\n",
    "  host=\"localhost\",\n",
    "  user=\"root\",\n",
    "  passwd=\"password\", database = \"classicmodels\"\n",
    ")\n",
    "\n",
    "print(mydb)\n"
   ]
  },
  {
   "cell_type": "markdown",
   "metadata": {},
   "source": [
    "The cell below returns all records from the employees table and only the records from the customer table to whom an employee (sales rep) has been assigned those records with null value under column salesrepemployeenumber will be ignored."
   ]
  },
  {
   "cell_type": "code",
   "execution_count": null,
   "metadata": {},
   "outputs": [],
   "source": [
    "mycursor = mydb.cursor()\n",
    "right_join = \"SELECT * FROM customers c Right JOIN employees e on c.salesRepEmployeeNumber = e.employeeNumber;\"\n",
    "mycursor.execute(right_join)\n",
    "\n",
    "myresult = mycursor.fetchall()\n",
    "\n",
    "df= pd.DataFrame(list(myresult))\n",
    "print(df)\n",
    "\n"
   ]
  },
  {
   "cell_type": "markdown",
   "metadata": {},
   "source": [
    "The cell below returns all records from the customer table and only the records from the employee table whose job title is sales rep."
   ]
  },
  {
   "cell_type": "code",
   "execution_count": 20,
   "metadata": {},
   "outputs": [
    {
     "name": "stdout",
     "output_type": "stream",
     "text": [
      "      0                               1           2        3               4   \\\n",
      "0    103               Atelier graphique     Schmitt  Carine       40.32.2555   \n",
      "1    112              Signal Gift Stores        King     Jean      7025551838   \n",
      "2    114      Australian Collectors, Co.    Ferguson    Peter    03 9520 4555   \n",
      "3    119               La Rochelle Gifts     Labrune  Janine       40.67.8555   \n",
      "4    121              Baane Mini Imports  Bergulfsen   Jonas       07-98 9555   \n",
      "..   ...                             ...         ...      ...             ...   \n",
      "117  486    Motor Mint Distributors Inc.     Salazar     Rosa      2155559857   \n",
      "118  487        Signal Collectibles Ltd.      Taylor      Sue      4155554312   \n",
      "119  489  Double Decker Gift Stores, Ltd       Smith  Thomas   (171) 555-7555   \n",
      "120  495            Diecast Collectables      Franco  Valarie      6175552555   \n",
      "121  496               Kelly's Gift Shop     Snowden     Tony   +64 9 5555500   \n",
      "\n",
      "                               5        6             7         8        9   \\\n",
      "0                  54, rue Royale     None        Nantes      None    44000   \n",
      "1                 8489 Strong St.     None     Las Vegas        NV    83030   \n",
      "2               636 St Kilda Road  Level 3     Melbourne  Victoria     3004   \n",
      "3    67, rue des Cinquante Otages     None        Nantes      None    44000   \n",
      "4          Erling Skakkes gate 78     None       Stavern      None     4110   \n",
      "..                            ...      ...           ...       ...      ...   \n",
      "117             11328 Douglas Av.     None  Philadelphia        PA    71270   \n",
      "118             2793 Furth Circle     None      Brisbane        CA    94217   \n",
      "119               120 Hanover Sq.     None        London      None  WA1 1DP   \n",
      "120                6251 Ingle Ln.     None        Boston        MA    51003   \n",
      "121            Arenales 1938 3'A'     None    Auckland        None     None   \n",
      "\n",
      "     ...      11         12      13         14      15     16  \\\n",
      "0    ...  1370.0   21000.00  1370.0  Hernandez  Gerard  x2028   \n",
      "1    ...  1166.0   71800.00  1166.0   Thompson  Leslie  x4065   \n",
      "2    ...  1611.0  117300.00  1611.0     Fixter    Andy   x101   \n",
      "3    ...  1370.0  118200.00  1370.0  Hernandez  Gerard  x2028   \n",
      "4    ...  1504.0   81700.00  1504.0      Jones   Barry   x102   \n",
      "..   ...     ...        ...     ...        ...     ...    ...   \n",
      "117  ...  1323.0   72600.00  1323.0     Vanauf  George  x4102   \n",
      "118  ...  1165.0   60300.00  1165.0   Jennings  Leslie  x3291   \n",
      "119  ...  1501.0   43300.00  1501.0       Bott   Larry  x2311   \n",
      "120  ...  1188.0   85100.00  1188.0   Firrelli   Julie  x2173   \n",
      "121  ...  1612.0  110000.00  1612.0      Marsh   Peter   x102   \n",
      "\n",
      "                                 17 18      19         20  \n",
      "0    ghernande@classicmodelcars.com  4  1102.0  Sales Rep  \n",
      "1    lthompson@classicmodelcars.com  1  1143.0  Sales Rep  \n",
      "2      afixter@classicmodelcars.com  6  1088.0  Sales Rep  \n",
      "3    ghernande@classicmodelcars.com  4  1102.0  Sales Rep  \n",
      "4       bjones@classicmodelcars.com  7  1102.0  Sales Rep  \n",
      "..                              ... ..     ...        ...  \n",
      "117    gvanauf@classicmodelcars.com  3  1143.0  Sales Rep  \n",
      "118  ljennings@classicmodelcars.com  1  1143.0  Sales Rep  \n",
      "119      lbott@classicmodelcars.com  7  1102.0  Sales Rep  \n",
      "120  jfirrelli@classicmodelcars.com  2  1143.0  Sales Rep  \n",
      "121     pmarsh@classicmodelcars.com  6  1088.0  Sales Rep  \n",
      "\n",
      "[122 rows x 21 columns]\n"
     ]
    }
   ],
   "source": [
    "mycursor = mydb.cursor()\n",
    "left_join =\"SELECT * FROM customers c LEFT JOIN employees e on c.salesRepEmployeeNumber = e.employeeNumber;\"\n",
    "mycursor.execute(left_join)\n",
    "\n",
    "myresult = mycursor.fetchall()\n",
    "\n",
    "df= pd.DataFrame(list(myresult))\n",
    "print(df)"
   ]
  },
  {
   "cell_type": "markdown",
   "metadata": {},
   "source": [
    "The cell below returns only those records from the customer and employees table where the customer has a sales rep assigned."
   ]
  },
  {
   "cell_type": "code",
   "execution_count": 21,
   "metadata": {},
   "outputs": [
    {
     "name": "stdout",
     "output_type": "stream",
     "text": [
      "     0                             1          2            3   \\\n",
      "0   124  Mini Gifts Distributors Ltd.     Nelson        Susan   \n",
      "1   129               Mini Wheels Co.     Murphy        Julie   \n",
      "2   161          Technics Stores Inc.  Hashimoto         Juri   \n",
      "3   321      Corporate Gift Ideas Co.      Brown        Julie   \n",
      "4   450     The Sharp Gifts Warehouse      Frick          Sue   \n",
      "..  ...                           ...        ...          ...   \n",
      "95  298               Vida Sport, Ltd       Holz       Mihael   \n",
      "96  344                   CAF Imports  Fernandez        Jesus   \n",
      "97  376         Precious Collectables        Urs        Braun   \n",
      "98  458    Corrida Auto Replicas, Ltd     Sommer      Martín    \n",
      "99  484    Iberia Gift Imports, Corp.       Roel  José Pedro    \n",
      "\n",
      "                 4                          5                      6   \\\n",
      "0        4155551450            5677 Strong St.                   None   \n",
      "1        6505555787  5557 North Pendale Street                   None   \n",
      "2        6505556809          9408 Furth Circle                   None   \n",
      "3        6505551386            7734 Strong St.                   None   \n",
      "4        4085553659             3086 Ingle Ln.                   None   \n",
      "..              ...                        ...                    ...   \n",
      "95      0897-034555          Grenzacherweg 237                   None   \n",
      "96  +34 913 728 555            Merchants House  27-30 Merchant's Quay   \n",
      "97      0452-076555               Hauptstr. 29                   None   \n",
      "98   (91) 555 22 82             C/ Araquil, 67                   None   \n",
      "99   (95) 555 82 82              C/ Romero, 33                   None   \n",
      "\n",
      "               7     8      9   ...    11         12    13        14      15  \\\n",
      "0      San Rafael    CA  97562  ...  1165  210500.00  1165  Jennings  Leslie   \n",
      "1   San Francisco    CA  94217  ...  1165   64600.00  1165  Jennings  Leslie   \n",
      "2      Burlingame    CA  94217  ...  1165   84600.00  1165  Jennings  Leslie   \n",
      "3   San Francisco    CA  94217  ...  1165  105000.00  1165  Jennings  Leslie   \n",
      "4        San Jose    CA  94217  ...  1165   77600.00  1165  Jennings  Leslie   \n",
      "..            ...   ...    ...  ...   ...        ...   ...       ...     ...   \n",
      "95         Genève  None   1203  ...  1702  141300.00  1702    Gerard  Martin   \n",
      "96         Madrid  None  28023  ...  1702   59600.00  1702    Gerard  Martin   \n",
      "97           Bern  None   3012  ...  1702       0.00  1702    Gerard  Martin   \n",
      "98         Madrid  None  28023  ...  1702  104600.00  1702    Gerard  Martin   \n",
      "99        Sevilla  None  41101  ...  1702   65700.00  1702    Gerard  Martin   \n",
      "\n",
      "       16                              17 18    19         20  \n",
      "0   x3291  ljennings@classicmodelcars.com  1  1143  Sales Rep  \n",
      "1   x3291  ljennings@classicmodelcars.com  1  1143  Sales Rep  \n",
      "2   x3291  ljennings@classicmodelcars.com  1  1143  Sales Rep  \n",
      "3   x3291  ljennings@classicmodelcars.com  1  1143  Sales Rep  \n",
      "4   x3291  ljennings@classicmodelcars.com  1  1143  Sales Rep  \n",
      "..    ...                             ... ..   ...        ...  \n",
      "95  x2312    mgerard@classicmodelcars.com  4  1102  Sales Rep  \n",
      "96  x2312    mgerard@classicmodelcars.com  4  1102  Sales Rep  \n",
      "97  x2312    mgerard@classicmodelcars.com  4  1102  Sales Rep  \n",
      "98  x2312    mgerard@classicmodelcars.com  4  1102  Sales Rep  \n",
      "99  x2312    mgerard@classicmodelcars.com  4  1102  Sales Rep  \n",
      "\n",
      "[100 rows x 21 columns]\n"
     ]
    }
   ],
   "source": [
    "mycursor = mydb.cursor()\n",
    "inner_join =\"SELECT * FROM customers c INNER JOIN employees e on c.salesRepEmployeeNumber = e.employeeNumber;\"\n",
    "mycursor.execute(inner_join)\n",
    "\n",
    "myresult = mycursor.fetchall()\n",
    "\n",
    "df= pd.DataFrame(list(myresult))\n",
    "print(df)"
   ]
  },
  {
   "cell_type": "code",
   "execution_count": null,
   "metadata": {},
   "outputs": [],
   "source": []
  }
 ],
 "metadata": {
  "kernelspec": {
   "display_name": "Python 3",
   "language": "python",
   "name": "python3"
  },
  "language_info": {
   "codemirror_mode": {
    "name": "ipython",
    "version": 3
   },
   "file_extension": ".py",
   "mimetype": "text/x-python",
   "name": "python",
   "nbconvert_exporter": "python",
   "pygments_lexer": "ipython3",
   "version": "3.8.3"
  }
 },
 "nbformat": 4,
 "nbformat_minor": 4
}
